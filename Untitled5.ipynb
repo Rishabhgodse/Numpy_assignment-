{
  "nbformat": 4,
  "nbformat_minor": 0,
  "metadata": {
    "colab": {
      "provenance": []
    },
    "kernelspec": {
      "name": "python3",
      "display_name": "Python 3"
    },
    "language_info": {
      "name": "python"
    }
  },
  "cells": [
    {
      "cell_type": "code",
      "source": [
        "# 1. Explain the purpose and advantages of NumPy in scientific computing and data analysis. How does it enhance Python's capabilities for numerical operations?"
      ],
      "metadata": {
        "id": "Akt2ZJ3BaLtS"
      },
      "execution_count": null,
      "outputs": []
    },
    {
      "cell_type": "markdown",
      "source": [
        "Purpose and Advantages of NumPy in Scientific Computing and Data Analysis\n",
        "NumPy is a core library for numerical and scientific computing in Python. It provides multi-dimensional arrays (ndarray) and a collection of mathematical functions for efficient numerical operations.\n",
        "\n",
        "Key Purposes:\n",
        "Efficient Array Handling: NumPy provides faster, more compact storage for large datasets compared to Python lists.\n",
        "Mathematical Operations: Supports a wide range of math functions like linear algebra, Fourier transforms, and statistics.\n",
        "Data Science Foundation: Used as a base for libraries like Pandas, SciPy, and TensorFlow, making it essential in data analysis and machine learning.\n",
        "Advantages:\n",
        "Performance: Operations are implemented in C, offering much faster computation than Python loops.\n",
        "Memory Efficiency: Uses less memory than Python lists.\n",
        "Vectorization: Enables operations on entire arrays without explicit loops, improving both speed and readability.\n",
        "Broadcasting: Simplifies operations between arrays of different shapes.\n",
        "Integration: Works seamlessly with other data libraries.\n",
        "Example: NumPy vs Python List\n",
        "\n",
        "import numpy as np\n",
        "\n",
        "array1 = np.array([1, 2, 3, 4])\n",
        "array2 = np.array([5, 6, 7, 8])\n",
        "\n",
        "# Element-wise addition\n",
        "result = array1 + array2\n",
        "print(result)  # Output: [ 6  8 10 12]\n",
        "Conclusion:\n",
        "NumPy enhances Python by providing efficient numerical computing, speeding up mathematical operations, and forming the foundation for advanced data analysis and machine learning libraries."
      ],
      "metadata": {
        "id": "0Oll8vtDaTw2"
      }
    },
    {
      "cell_type": "code",
      "source": [
        "# 2. Compare and contrast np.mean() and np.average() functions in NumPy. When would you use one over the other?"
      ],
      "metadata": {
        "id": "m-8cr1zyaam2"
      },
      "execution_count": null,
      "outputs": []
    },
    {
      "cell_type": "markdown",
      "source": [
        "\n",
        "Comparison of np.mean() and np.average() in NumPy\n",
        "Both np.mean() and np.average() are used to calculate the central tendency of an array, but they differ in terms of functionality and flexibility.\n",
        "\n",
        "np.mean()\n",
        "Purpose: Calculates the arithmetic mean (average) of elements in an array.\n",
        "Weights: Does not support weighted averages. Every element has equal importance.\n",
        "Usage: Used when you need a simple average.\n",
        "Syntax:\n",
        "\n",
        "np.mean(array, axis=None)\n",
        "Example:\n",
        "\n",
        "import numpy as np\n",
        "data = [1, 2, 3, 4]\n",
        "mean_value = np.mean(data)\n",
        "print(mean_value)  # Output: 2.5\n",
        "np.average()\n",
        "Purpose: Calculates the weighted average, with the option to assign different weights to elements.\n",
        "Weights: Supports weights, allowing each element to have different importance in the calculation.\n",
        "Usage: Used when you need a weighted average or when weights are given.\n",
        "Syntax:\n",
        "\n",
        "np.average(array, weights=None, axis=None)\n",
        "Example (with weights):\n",
        "\n",
        "import numpy as np\n",
        "data = [1, 2, 3, 4]\n",
        "weights = [1, 2, 3, 4]\n",
        "weighted_avg = np.average(data, weights=weights)\n",
        "print(weighted_avg)  # Output: 3.0\n",
        "Key Differences:\n",
        "Feature\tnp.mean()\tnp.average()\n",
        "Basic Function\tSimple arithmetic mean\tWeighted average (optional)\n",
        "Weights\tNot supported\tSupported (optional)\n",
        "Use Case\tWhen weights are not needed\tWhen weights are important\n",
        "When to Use One Over the Other:\n",
        "Use np.mean(): When calculating a simple average where all data points have equal importance.\n",
        "Use np.average(): When data points have different significance and you need to compute a weighted average."
      ],
      "metadata": {
        "id": "4_ae4gCEapSn"
      }
    },
    {
      "cell_type": "code",
      "source": [
        "# 3. Describe the methods for reversing a NumPy array along different axes. Provide examples for 1D and 2D arrays."
      ],
      "metadata": {
        "id": "Y_oTVm4qa8Uq"
      },
      "execution_count": null,
      "outputs": []
    },
    {
      "cell_type": "markdown",
      "source": [
        "Methods for Reversing a NumPy Array Along Different Axes\n",
        "In NumPy, you can reverse arrays along different axes using slicing techniques and built-in functions. Below are the methods for reversing arrays in 1D and 2D cases.\n",
        "\n",
        "1. Reversing a 1D Array\n",
        "You can reverse a 1D NumPy array by using Python's slicing syntax [::-1].\n",
        "\n",
        "Example:\n",
        "\n",
        "import numpy as np\n",
        "\n",
        "arr = np.array([1, 2, 3, 4, 5])\n",
        "\n",
        "# Reversing the array\n",
        "reversed_arr = arr[::-1]\n",
        "\n",
        "print(reversed_arr)  # Output: [5 4 3 2 1]\n",
        "2. Reversing a 2D Array\n",
        "For 2D arrays, you can reverse the array along different axes using slicing or the np.flip() function.\n",
        "\n",
        "(a) Reverse Along Rows (Axis 0)\n",
        "Reversing the elements of each row (along axis 0).\n",
        "\n",
        "Example:\n",
        "\n",
        "arr_2d = np.array([[1, 2, 3], [4, 5, 6], [7, 8, 9]])\n",
        "\n",
        "# Reverse along rows\n",
        "reversed_rows = arr_2d[::-1, :]\n",
        "\n",
        "print(reversed_rows)\n",
        "# Output:\n",
        "# [[7 8 9]\n",
        "#  [4 5 6]\n",
        "#  [1 2 3]]\n",
        "(b) Reverse Along Columns (Axis 1)\n",
        "Reversing the elements of each column (along axis 1).\n",
        "\n",
        "Example:\n",
        "\n",
        "# Reverse along columns\n",
        "reversed_cols = arr_2d[:, ::-1]\n",
        "\n",
        "print(reversed_cols)\n",
        "# Output:\n",
        "# [[3 2 1]\n",
        "#  [6 5 4]\n",
        "#  [9 8 7]]\n",
        "(c) Reverse Along Both Axes\n",
        "You can reverse the array along both rows and columns.\n",
        "\n",
        "Example:\n",
        "\n",
        "reversed_both = arr_2d[::-1, ::-1]\n",
        "\n",
        "print(reversed_both)\n",
        "# Output:\n",
        "# [[9 8 7]\n",
        "#  [6 5 4]\n",
        "#  [3 2 1]]\n",
        "3. Using np.flip() Function\n",
        "np.flip() is a built-in function that flips an array along the specified axis.\n",
        "\n",
        "Flip a 1D Array:\n",
        "\n",
        "\n",
        "flipped_1d = np.flip(arr)\n",
        "print(flipped_1d)  # Output: [5 4 3 2 1]\n",
        "Flip a 2D Array (Along Rows):\n",
        "\n",
        "\n",
        "flipped_2d_rows = np.flip(arr_2d, axis=0)\n",
        "print(flipped_2d_rows)\n",
        "# Output:\n",
        "# [[7 8 9]\n",
        "#  [4 5 6]\n",
        "#  [1 2 3]]\n",
        "Flip a 2D Array (Along Columns):\n",
        "\n",
        "\n",
        "flipped_2d_cols = np.flip(arr_2d, axis=1)\n",
        "print(flipped_2d_cols)\n",
        "# Output:\n",
        "# [[3 2 1]\n",
        "#  [6 5 4]\n",
        "#  [9 8 7]]\n",
        "Conclusion:\n",
        "Slicing [::-1] is the most common and simple way to reverse arrays.\n",
        "np.flip() is a versatile function that works well for reversing arrays along specified axes.\n",
        "\n",
        "\n",
        "\n",
        "\n",
        "\n",
        "You said:\n",
        "short\n",
        "ChatGPT said:\n",
        "ChatGPT\n",
        "Reversing a NumPy Array Along Different Axes\n",
        "You can reverse arrays in NumPy using slicing [::-1] or the np.flip() function.\n",
        "\n",
        "1. Reversing a 1D Array\n",
        "Method: Use slicing [::-1].\n",
        "\n",
        "import numpy as np\n",
        "arr = np.array([1, 2, 3, 4, 5])\n",
        "reversed_arr = arr[::-1]\n",
        "print(reversed_arr)  # Output: [5 4 3 2 1]\n",
        "2. Reversing a 2D Array\n",
        "Reverse Rows (Axis 0):\n",
        "\n",
        "\n",
        "arr_2d = np.array([[1, 2, 3], [4, 5, 6], [7, 8, 9]])\n",
        "reversed_rows = arr_2d[::-1, :]\n",
        "print(reversed_rows)\n",
        "# Output: [[7 8 9], [4 5 6], [1 2 3]]\n",
        "Reverse Columns (Axis 1):\n",
        "\n",
        "\n",
        "reversed_cols = arr_2d[:, ::-1]\n",
        "print(reversed_cols)\n",
        "# Output: [[3 2 1], [6 5 4], [9 8 7]]\n",
        "3. Using np.flip()\n",
        "Flip Along an Axis:\n",
        "\n",
        "flipped_2d = np.flip(arr_2d, axis=0)  # Reverse rows\n",
        "flipped_2d = np.flip(arr_2d, axis=1)  # Reverse columns\n",
        "Conclusion:\n",
        "Use [::-1] for simple reversing.\n",
        "Use np.flip() for flexibility across axes."
      ],
      "metadata": {
        "id": "IBU4C_jpbEfN"
      }
    },
    {
      "cell_type": "code",
      "source": [
        "# 4. How can you determine the data type of elements in a NumPy array? Discuss the importance of data types in memory management and performance."
      ],
      "metadata": {
        "id": "WquQ_azvdTTW"
      },
      "execution_count": null,
      "outputs": []
    },
    {
      "cell_type": "markdown",
      "source": [
        "Determining the Data Type of Elements in a NumPy Array\n",
        "In NumPy, you can determine the data type of the elements in an array using the .dtype attribute.\n",
        "\n",
        "Example:\n",
        "\n",
        "  \n",
        "import numpy as np\n",
        "\n",
        "arr = np.array([1, 2, 3])\n",
        "print(arr.dtype)  # Output: int64 (or int32 depending on system)\n",
        "Importance of Data Types in Memory Management and Performance\n",
        "Memory Efficiency:\n",
        "\n",
        "NumPy arrays are more memory-efficient than Python lists because the data type (dtype) of each element is fixed, ensuring uniform storage size.\n",
        "Specifying an appropriate data type (e.g., int32, float64, bool) optimizes memory usage. For example, an int32 uses 4 bytes, while a float64 uses 8 bytes.\n",
        "Performance:\n",
        "\n",
        "Operations on NumPy arrays are faster because they use fixed-size data types, allowing NumPy to leverage low-level optimizations (e.g., vectorization).\n",
        "Choosing a smaller data type (e.g., int8 instead of int64) can improve performance, especially when dealing with large datasets, as it reduces memory overhead and speeds up computations.\n",
        "Example of Memory Impact:\n",
        "\n",
        "\n",
        "arr_int8 = np.array([1, 2, 3], dtype=np.int8)\n",
        "arr_int64 = np.array([1, 2, 3], dtype=np.int64)\n",
        "\n",
        "print(arr_int8.nbytes)  # Output: 3 bytes (1 byte per element)\n",
        "print(arr_int64.nbytes)  # Output: 24 bytes (8 bytes per element)\n",
        "Conclusion:\n",
        "Data types in NumPy are crucial for optimizing memory usage and improving performance, especially in large-scale numerical computations. The .dtype attribute helps determine and manage the data types efficiently."
      ],
      "metadata": {
        "id": "KvYB-CKLdXJl"
      }
    },
    {
      "cell_type": "code",
      "source": [
        "# 5. Define ndarrays in NumPy and explain their key features. How do they differ from standard Python lists?"
      ],
      "metadata": {
        "id": "Vwq3hKNwd4_3"
      },
      "execution_count": null,
      "outputs": []
    },
    {
      "cell_type": "markdown",
      "source": [
        "Definition of ndarray in NumPy\n",
        "In NumPy, ndarray stands for \"N-dimensional array.\" It is a fundamental data structure in NumPy used to represent multi-dimensional arrays and matrices of numerical data.\n",
        "\n",
        "Key Features of ndarray:\n",
        "N-Dimensional: ndarray supports arrays of any dimension, from 1D (vectors) to 2D (matrices) and higher (3D, 4D, etc.).\n",
        "\n",
        "Example: 1D array: [1, 2, 3], 2D array: [[1, 2], [3, 4]], 3D array: [[[1, 2], [3, 4]], [[5, 6], [7, 8]]]\n",
        "Fixed Data Type: All elements in an ndarray must have the same data type (dtype), ensuring efficient storage and operation.\n",
        "\n",
        "Example: All integers (int64), all floats (float32), etc.\n",
        "Homogeneous and Efficient Memory Use: Since all elements are of the same type, ndarray uses contiguous blocks of memory, making it much more efficient for numerical computations compared to Python lists.\n",
        "\n",
        "Element-wise Operations: ndarray supports vectorized operations, meaning operations like addition, multiplication, and other element-wise arithmetic are applied to entire arrays without the need for loops.\n",
        "\n",
        "Example:\n",
        "\n",
        "import numpy as np\n",
        "arr = np.array([1, 2, 3])\n",
        "result = arr * 2  # Multiplies each element by 2\n",
        "print(result)  # Output: [2, 4, 6]\n",
        "Shape and Reshaping: The shape of an ndarray (its dimensions) can be easily changed without altering the underlying data using reshape().\n",
        "\n",
        "Example:\n",
        "\n",
        "arr = np.array([1, 2, 3, 4, 5, 6])\n",
        "reshaped = arr.reshape(2, 3)  # Converts 1D array to 2D array (2 rows, 3 columns)\n",
        "Slicing and Indexing: You can access and modify specific elements, rows, or columns using powerful slicing and indexing techniques.\n",
        "\n",
        "Example:\n",
        "\n",
        "arr = np.array([[1, 2], [3, 4], [5, 6]])\n",
        "print(arr[1, :])  # Output: [3 4] (Access the second row)\n",
        "Differences Between ndarray and Python Lists:\n",
        "Feature\tndarray (NumPy)\tPython List\n",
        "Data Type\tFixed (homogeneous)\tCan hold mixed data types\n",
        "Performance\tMuch faster for numerical operations\tSlower, especially with large data\n",
        "Memory Efficiency\tMore memory-efficient\tLess efficient (due to pointers)\n",
        "Mathematical Operations\tSupports element-wise operations\tNo built-in vectorized operations\n",
        "Multi-dimensional Support\tNative support for multi-dimensional arrays\tRequires nested lists for 2D or higher\n",
        "Memory Contiguity\tUses contiguous memory blocks\tScattered memory, with pointers\n",
        "Conclusion:\n",
        "ndarray in NumPy is a powerful, efficient, and versatile data structure designed for numerical computations, offering better performance, memory efficiency, and flexibility compared to Python lists. It is the backbone of scientific computing in Python."
      ],
      "metadata": {
        "id": "FOpCFum-eVPA"
      }
    },
    {
      "cell_type": "code",
      "source": [
        "# 6. Analyze the performance benefits of NumPy arrays over Python lists for large-scale numerical operations."
      ],
      "metadata": {
        "id": "hHepRcBTeejG"
      },
      "execution_count": null,
      "outputs": []
    },
    {
      "cell_type": "markdown",
      "source": [
        "Performance Benefits of NumPy Arrays Over Python Lists (with Code)\n",
        "Memory Efficiency:\n",
        "\n",
        "NumPy: Uses less memory due to fixed data types.\n",
        "Python Lists: Use more memory due to pointers and mixed types.\n",
        "\n",
        "\n",
        "import numpy as np\n",
        "\n",
        "arr = np.array([1, 2, 3], dtype=np.int32)\n",
        "print(arr.nbytes)  # Output: 12 bytes (3 elements * 4 bytes)\n",
        "\n",
        "py_list = [1, 2, 3]\n",
        "# Memory for Python lists cannot be directly measured, but it uses more due to pointers.\n",
        "Speed and Vectorized Operations:\n",
        "\n",
        "NumPy: Supports fast, element-wise operations without loops.\n",
        "Python Lists: Require loops, which are slower.\n",
        "python\n",
        "Copy code\n",
        "import time\n",
        "\n",
        "size = int(1e6)\n",
        "np_array = np.arange(size)\n",
        "py_list = list(range(size))\n",
        "\n",
        "# NumPy operation\n",
        "start = time.time()\n",
        "np_result = np_array * 2\n",
        "print(f\"NumPy Time: {time.time() - start} seconds\")\n",
        "\n",
        "# Python list operation\n",
        "start = time.time()\n",
        "py_result = [x * 2 for x in py_list]\n",
        "print(f\"Python List Time: {time.time() - start} seconds\")\n",
        "Low-Level Optimizations:\n",
        "\n",
        "NumPy: Written in C, making operations faster than Python’s interpreted loops.\n",
        "Broadcasting:\n",
        "\n",
        "NumPy: Automatically applies operations across arrays of different shapes.\n",
        "\n",
        "\n",
        "arr = np.array([1, 2, 3])\n",
        "matrix = np.array([[1], [2], [3]])\n",
        "result = arr + matrix  # Broadcasting adds arr to each row of matrix\n",
        "print(result)\n",
        "Built-in Functions:\n",
        "\n",
        "NumPy: Provides optimized functions for numerical computations.\n",
        "\n",
        "\n",
        "\n",
        "np_array = np.random.rand(1000, 1000)\n",
        "result = np.sum(np_array)  # Fast sum of all elements\n",
        "print(result)\n",
        "\n",
        "Conclusion:\n",
        "\n",
        "NumPy arrays are faster and more memory-efficient than Python lists, particularly for large datasets. This is due to vectorized operations, low-level optimizations, and efficient memory management."
      ],
      "metadata": {
        "id": "HZrvE31L1Z2b"
      }
    },
    {
      "cell_type": "code",
      "source": [
        "# 7. Compare vstack() and hstack() functions in NumPy. Provide examples demonstrating their usage and output."
      ],
      "metadata": {
        "id": "GLCH_V791sle"
      },
      "execution_count": null,
      "outputs": []
    },
    {
      "cell_type": "markdown",
      "source": [
        "\n",
        "vstack() vs hstack() in NumPy\n",
        "Both vstack() and hstack() are used to stack arrays together in NumPy, but they operate along different axes.\n",
        "\n",
        "vstack(): Stacks arrays vertically (along rows).\n",
        "hstack(): Stacks arrays horizontally (along columns).\n",
        "1. vstack(): Vertical Stacking\n",
        "Functionality: Combines multiple arrays along the vertical (row-wise) axis.\n",
        "\n",
        "Shape Requirement: Arrays must have the same number of columns (i.e., same second dimension).\n",
        "\n",
        "Example:\n",
        "\n",
        "\n",
        "import numpy as np\n",
        "\n",
        "arr1 = np.array([1, 2, 3])\n",
        "arr2 = np.array([4, 5, 6])\n",
        "\n",
        "# Stacking vertically\n",
        "result_vstack = np.vstack((arr1, arr2))\n",
        "\n",
        "print(result_vstack)\n",
        "# Output:\n",
        "# [[1 2 3]\n",
        "#  [4 5 6]]\n",
        "2. hstack(): Horizontal Stacking\n",
        "Functionality: Combines multiple arrays along the horizontal (column-wise) axis.\n",
        "\n",
        "Shape Requirement: Arrays must have the same number of rows (i.e., same first dimension).\n",
        "\n",
        "Example:\n",
        "\n",
        "\n",
        "arr1 = np.array([1, 2, 3])\n",
        "arr2 = np.array([4, 5, 6])\n",
        "\n",
        "# Stacking horizontally\n",
        "result_hstack = np.hstack((arr1, arr2))\n",
        "\n",
        "print(result_hstack)\n",
        "# Output: [1 2 3 4 5 6]\n",
        "3. 2D Array Example\n",
        "Vertical Stacking:\n",
        "\n",
        "\n",
        "arr1 = np.array([[1, 2], [3, 4]])\n",
        "arr2 = np.array([[5, 6], [7, 8]])\n",
        "\n",
        "result_vstack = np.vstack((arr1, arr2))\n",
        "print(result_vstack)\n",
        "# Output:\n",
        "# [[1 2]\n",
        "#  [3 4]\n",
        "#  [5 6]\n",
        "#  [7 8]]\n",
        "Horizontal Stacking:\n",
        "\n",
        "\n",
        "result_hstack = np.hstack((arr1, arr2))\n",
        "print(result_hstack)\n",
        "# Output:\n",
        "# [[1 2 5 6]\n",
        "#  [3 4 7 8]]\n",
        "\n",
        "Summary:\n",
        "\n",
        "vstack(): Stacks arrays vertically, creating more rows.\n",
        "hstack(): Stacks arrays horizontally, creating more columns.\n",
        "Each function requires compatible dimensions along non-stacking axes (same number of columns for vstack() and same number of rows for hstack())."
      ],
      "metadata": {
        "id": "9yTTSr821zS3"
      }
    },
    {
      "cell_type": "code",
      "source": [
        "# 8. Explain the differences between fliplr() and flipud() methods in NumPy, including their effects on various array dimensions."
      ],
      "metadata": {
        "id": "T4xfB28R2QN4"
      },
      "execution_count": null,
      "outputs": []
    },
    {
      "cell_type": "markdown",
      "source": [
        "\n",
        "Differences Between fliplr() and flipud() in NumPy\n",
        "Both fliplr() and flipud() are NumPy functions used to flip arrays, but they work on different axes.\n",
        "\n",
        "1. fliplr(): Flip Left to Right\n",
        "Functionality: Flips an array horizontally along its columns.\n",
        "\n",
        "Effect: Reverses the order of the columns, while the rows remain unchanged.\n",
        "\n",
        "Applicability: Only works on arrays with 2 or more dimensions.\n",
        "\n",
        "Example:\n",
        "\n",
        "\n",
        "import numpy as np\n",
        "\n",
        "arr = np.array([[1, 2, 3],\n",
        "                [4, 5, 6],\n",
        "                [7, 8, 9]])\n",
        "\n",
        "result_fliplr = np.fliplr(arr)\n",
        "print(result_fliplr)\n",
        "# Output:\n",
        "# [[3 2 1]\n",
        "#  [6 5 4]\n",
        "#  [9 8 7]]\n",
        "2. flipud(): Flip Up to Down\n",
        "Functionality: Flips an array vertically along its rows.\n",
        "\n",
        "Effect: Reverses the order of the rows, while the columns remain unchanged.\n",
        "\n",
        "Applicability: Works on arrays with 1 or more dimensions.\n",
        "\n",
        "Example:\n",
        "\n",
        "\n",
        "result_flipud = np.flipud(arr)\n",
        "print(result_flipud)\n",
        "# Output:\n",
        "# [[7 8 9]\n",
        "#  [4 5 6]\n",
        "#  [1 2 3]]\n",
        "Effects on Array Dimensions\n",
        "1D Arrays:\n",
        "\n",
        "fliplr() cannot be applied to 1D arrays.\n",
        "flipud() can flip a 1D array, but since it only has one row, it behaves similarly to reversing the array.\n",
        "\n",
        "\n",
        "arr_1d = np.array([1, 2, 3])\n",
        "result_flipud_1d = np.flipud(arr_1d)\n",
        "print(result_flipud_1d)  # Output: [3 2 1]\n",
        "2D Arrays:\n",
        "\n",
        "fliplr(): Reverses the order of columns in all rows.\n",
        "flipud(): Reverses the order of rows.\n",
        "Higher-Dimensional Arrays:\n",
        "\n",
        "Both functions operate on the first two axes (rows and columns) in higher-dimensional arrays.\n",
        "\n",
        "Summary:\n",
        "\n",
        "fliplr(): Flips an array horizontally, reversing the columns.\n",
        "flipud(): Flips an array vertically, reversing the rows.\n",
        "Both functions are useful for manipulating data orientation in 2D or higher-dimensional arrays."
      ],
      "metadata": {
        "id": "rz58csVW2gY5"
      }
    },
    {
      "cell_type": "code",
      "source": [
        "# 9. Discuss the functionality of the array_split() method in NumPy. How does it handle uneven splits?"
      ],
      "metadata": {
        "id": "wFJR5lcC2xN0"
      },
      "execution_count": null,
      "outputs": []
    },
    {
      "cell_type": "markdown",
      "source": [
        "array_split() Functionality in NumPy\n",
        "The array_split() function in NumPy is used to split an array into multiple sub-arrays. Unlike the split() method, which requires the array to be split evenly, array_split() can handle uneven splits by automatically adjusting the size of the sub-arrays.\n",
        "\n",
        "Key Features:\n",
        "Uneven Splits: array_split() allows splitting an array into sub-arrays of unequal sizes when the total number of elements cannot be divided evenly.\n",
        "Number of Splits: You specify how many sub-arrays you want, and the function will try to split them as evenly as possible.\n",
        "How array_split() Handles Uneven Splits:\n",
        "If the array size is not divisible by the number of splits, array_split() creates sub-arrays where the first few sub-arrays are slightly larger (contain one more element) than the remaining ones.\n",
        "Syntax:\n",
        "\n",
        "\n",
        "numpy.array_split(array, num_splits)\n",
        "array: The array to be split.\n",
        "num_splits: The number of desired splits (can result in uneven sub-arrays).\n",
        "Example 1: Even Split\n",
        "If the total number of elements is divisible by the number of splits, it works like split().\n",
        "\n",
        "\n",
        "\n",
        "import numpy as np\n",
        "\n",
        "arr = np.array([1, 2, 3, 4, 5, 6])\n",
        "result = np.array_split(arr, 3)\n",
        "print(result)\n",
        "# Output: [array([1, 2]), array([3, 4]), array([5, 6])]\n",
        "Example 2: Uneven Split\n",
        "When the array size is not divisible by the number of splits, the first sub-arrays are larger.\n",
        "\n",
        "\n",
        "\n",
        "arr = np.array([1, 2, 3, 4, 5, 6, 7])\n",
        "result = np.array_split(arr, 3)\n",
        "print(result)\n",
        "# Output: [array([1, 2, 3]), array([4, 5]), array([6, 7])]\n",
        "Here, the first sub-array has 3 elements, while the remaining two have 2 elements each.\n",
        "Example 3: Splitting a 2D Array\n",
        "You can also split 2D arrays either row-wise or column-wise.\n",
        "\n",
        "\n",
        "\n",
        "arr_2d = np.array([[1, 2], [3, 4], [5, 6], [7, 8]])\n",
        "result = np.array_split(arr_2d, 3)\n",
        "print(result)\n",
        "\n",
        "# Output:\n",
        "# [array([[1, 2], [3, 4]]),\n",
        "#  array([[5, 6]]),\n",
        "#  array([[7, 8]])]\n",
        "\n",
        "In this case, the first split contains 2 rows, and the remaining splits have 1 row each.\n",
        "\n",
        "Summary:\n",
        "\n",
        "array_split() allows splitting arrays into multiple sub-arrays, even when the array cannot be split evenly.\n",
        "It creates larger sub-arrays first in cases of uneven splits, distributing the elements as evenly as possible.\n",
        "It works on both 1D and multi-dimensional arrays."
      ],
      "metadata": {
        "id": "JNYGFOLh3q1b"
      }
    },
    {
      "cell_type": "code",
      "source": [
        "# 10. Explain the concepts of vectorization and broadcasting in NumPy. How do they contribute to efficient array operations?"
      ],
      "metadata": {
        "id": "o0Ar5mqW4E83"
      },
      "execution_count": null,
      "outputs": []
    },
    {
      "cell_type": "markdown",
      "source": [
        "Concepts of Vectorization and Broadcasting in NumPy\n",
        "1. Vectorization:\n",
        "Definition: Vectorization refers to the process of applying operations to entire arrays (or vectors) in a single step, without using explicit loops. In NumPy, this is achieved by applying element-wise operations directly on arrays, which are optimized using low-level implementations in C.\n",
        "\n",
        "Efficiency: Vectorization eliminates the need for Python loops, making computations much faster. It allows you to perform mathematical operations on entire arrays at once, utilizing highly optimized code in the backend.\n",
        "\n",
        "Example of Vectorization:\n",
        "\n",
        "\n",
        "\n",
        "import numpy as np\n",
        "\n",
        "arr = np.array([1, 2, 3, 4])\n",
        "result = arr * 2  # Vectorized multiplication\n",
        "print(result)\n",
        "# Output: [2 4 6 8]\n",
        "Here, each element of arr is multiplied by 2 in a single operation, instead of looping through the elements.\n",
        "\n",
        "2. Broadcasting:\n",
        "Definition: Broadcasting is a mechanism that allows NumPy to perform operations on arrays of different shapes by \"stretching\" the smaller array along an axis to match the shape of the larger array. Instead of manually reshaping or duplicating arrays, broadcasting allows NumPy to implicitly expand dimensions for element-wise operations.\n",
        "\n",
        "Efficiency: Broadcasting enables operations between arrays of different shapes without unnecessary memory usage or explicit reshaping. This leads to both performance gains and ease of coding.\n",
        "\n",
        "Example of Broadcasting:\n",
        "\n",
        "\n",
        "\n",
        "arr1 = np.array([1, 2, 3])\n",
        "arr2 = np.array([[10], [20], [30]])\n",
        "\n",
        "result = arr1 + arr2  # Broadcasting arr1 across arr2\n",
        "print(result)\n",
        "# Output:\n",
        "# [[11 12 13]\n",
        "#  [21 22 23]\n",
        "#  [31 32 33]]\n",
        "Here, arr1 is broadcasted to match the shape of arr2, and the addition happens element-wise.\n",
        "\n",
        "How They Contribute to Efficient Array Operations:\n",
        "Speed:\n",
        "\n",
        "Vectorization enables operations to be written in concise, loop-free code, allowing NumPy to leverage compiled code (C/Fortran) for faster execution.\n",
        "Broadcasting avoids the need for manual array reshaping or looping through elements, reducing code complexity and runtime.\n",
        "Memory Efficiency:\n",
        "\n",
        "With broadcasting, NumPy avoids creating large temporary arrays by handling operations on arrays with different shapes directly, which saves memory.\n",
        "In vectorized operations, operations occur in place, reducing overhead.\n",
        "Simplicity:\n",
        "\n",
        "Both vectorization and broadcasting allow for cleaner, more readable code that is easier to maintain, without the need for explicit loops or conditionals.\n",
        "Example: Vectorization with Broadcasting\n",
        "\n",
        "\n",
        "arr1 = np.array([1, 2, 3])\n",
        "arr2 = np.array([10, 20, 30])\n",
        "\n",
        "result = arr1 + arr2  # Element-wise addition (Vectorization)\n",
        "print(result)  # Output: [11 22 33]\n",
        "\n",
        "# Broadcasting example\n",
        "matrix = np.array([[1], [2], [3]])\n",
        "result = matrix + arr1\n",
        "print(result)\n",
        "# Output:\n",
        "# [[2 3 4]\n",
        "#  [3 4 5]\n",
        "#  [4 5 6]]\n",
        "\n",
        "Summary:\n",
        "\n",
        "Vectorization enables efficient, loop-free, element-wise operations on arrays, making code faster and more concise.\n",
        "Broadcasting allows arrays of different shapes to be operated on together by expanding dimensions automatically, improving performance without increasing memory usage. Both techniques are key to NumPy's efficiency in handling large-scale numerical computations."
      ],
      "metadata": {
        "id": "9T5TM2n54qlT"
      }
    },
    {
      "cell_type": "code",
      "source": [
        "# Practical Questions:"
      ],
      "metadata": {
        "id": "YCKGDIc47sCh"
      },
      "execution_count": null,
      "outputs": []
    },
    {
      "cell_type": "markdown",
      "source": [
        "1. Create a 3x3 NumPy Array with Random Integers and Interchange Rows and Columns\n"
      ],
      "metadata": {
        "id": "iXgsnVRc9J86"
      }
    },
    {
      "cell_type": "code",
      "source": [
        "import numpy as np\n",
        "\n",
        "# Create a 3x3 array with random integers between 1 and 100\n",
        "array_3x3 = np.random.randint(1, 101, size=(3, 3))\n",
        "print(\"Original 3x3 Array:\")\n",
        "print(array_3x3)\n",
        "\n",
        "# Interchange rows and columns (transpose)\n",
        "interchanged_array = array_3x3.T\n",
        "print(\"\\nInterchanged Array (Rows and Columns):\")\n",
        "print(interchanged_array)\n"
      ],
      "metadata": {
        "colab": {
          "base_uri": "https://localhost:8080/"
        },
        "id": "AviFRzLM9K8o",
        "outputId": "3f53497d-2e85-416d-e58d-115c15b84ea4"
      },
      "execution_count": 1,
      "outputs": [
        {
          "output_type": "stream",
          "name": "stdout",
          "text": [
            "Original 3x3 Array:\n",
            "[[52 58 88]\n",
            " [54 13  7]\n",
            " [32 71 11]]\n",
            "\n",
            "Interchanged Array (Rows and Columns):\n",
            "[[52 54 32]\n",
            " [58 13 71]\n",
            " [88  7 11]]\n"
          ]
        }
      ]
    },
    {
      "cell_type": "markdown",
      "source": [
        "2. Generate a 1D NumPy Array, Reshape to 2x5 and 5x2"
      ],
      "metadata": {
        "id": "yjGrjevJ9TNc"
      }
    },
    {
      "cell_type": "code",
      "source": [
        "# Generate a 1D array with 10 elements\n",
        "array_1d = np.arange(10)\n",
        "print(\"\\n1D Array:\")\n",
        "print(array_1d)\n",
        "\n",
        "# Reshape into a 2x5 array\n",
        "array_2x5 = array_1d.reshape(2, 5)\n",
        "print(\"\\nReshaped to 2x5 Array:\")\n",
        "print(array_2x5)\n",
        "\n",
        "# Reshape into a 5x2 array\n",
        "array_5x2 = array_1d.reshape(5, 2)\n",
        "print(\"\\nReshaped to 5x2 Array:\")\n",
        "print(array_5x2)\n"
      ],
      "metadata": {
        "colab": {
          "base_uri": "https://localhost:8080/"
        },
        "id": "KYfE3b5j9WqC",
        "outputId": "c5af62f2-a69d-48c3-eba7-c057da3e7b5c"
      },
      "execution_count": 2,
      "outputs": [
        {
          "output_type": "stream",
          "name": "stdout",
          "text": [
            "\n",
            "1D Array:\n",
            "[0 1 2 3 4 5 6 7 8 9]\n",
            "\n",
            "Reshaped to 2x5 Array:\n",
            "[[0 1 2 3 4]\n",
            " [5 6 7 8 9]]\n",
            "\n",
            "Reshaped to 5x2 Array:\n",
            "[[0 1]\n",
            " [2 3]\n",
            " [4 5]\n",
            " [6 7]\n",
            " [8 9]]\n"
          ]
        }
      ]
    },
    {
      "cell_type": "markdown",
      "source": [
        "3. Create a 4x4 Array with Random Floats and Add a Border of Zeros"
      ],
      "metadata": {
        "id": "3vTsbnni9ai3"
      }
    },
    {
      "cell_type": "code",
      "source": [
        "# Create a 4x4 array with random float values\n",
        "array_4x4 = np.random.rand(4, 4)\n",
        "print(\"\\nOriginal 4x4 Array with Random Float Values:\")\n",
        "print(array_4x4)\n",
        "\n",
        "# Add a border of zeros around the array\n",
        "array_with_border = np.pad(array_4x4, pad_width=1, mode='constant', constant_values=0)\n",
        "print(\"\\nArray with Border of Zeros (6x6):\")\n",
        "print(array_with_border)\n"
      ],
      "metadata": {
        "colab": {
          "base_uri": "https://localhost:8080/"
        },
        "id": "48g82nPN9Y9d",
        "outputId": "54295e98-a81e-4ad4-a8e8-975e8e179895"
      },
      "execution_count": 3,
      "outputs": [
        {
          "output_type": "stream",
          "name": "stdout",
          "text": [
            "\n",
            "Original 4x4 Array with Random Float Values:\n",
            "[[0.36471676 0.09503561 0.46727121 0.17211845]\n",
            " [0.50855176 0.35625858 0.42739355 0.41896075]\n",
            " [0.14490243 0.46013031 0.9195067  0.73961084]\n",
            " [0.7687897  0.26960362 0.8535934  0.40191089]]\n",
            "\n",
            "Array with Border of Zeros (6x6):\n",
            "[[0.         0.         0.         0.         0.         0.        ]\n",
            " [0.         0.36471676 0.09503561 0.46727121 0.17211845 0.        ]\n",
            " [0.         0.50855176 0.35625858 0.42739355 0.41896075 0.        ]\n",
            " [0.         0.14490243 0.46013031 0.9195067  0.73961084 0.        ]\n",
            " [0.         0.7687897  0.26960362 0.8535934  0.40191089 0.        ]\n",
            " [0.         0.         0.         0.         0.         0.        ]]\n"
          ]
        }
      ]
    },
    {
      "cell_type": "markdown",
      "source": [
        "4. Create an Array of Integers from 10 to 60 with a Step of 5"
      ],
      "metadata": {
        "id": "2_JSnfO99qhl"
      }
    },
    {
      "cell_type": "code",
      "source": [
        "# Create an array of integers from 10 to 60 with a step of 5\n",
        "array_step = np.arange(10, 61, 5)\n",
        "print(\"\\nArray of Integers from 10 to 60 with a Step of 5:\")\n",
        "print(array_step)\n"
      ],
      "metadata": {
        "colab": {
          "base_uri": "https://localhost:8080/"
        },
        "id": "ldo1EuOq9kPp",
        "outputId": "c64ca036-0f95-4dc2-b5f5-3b4e0dac1f49"
      },
      "execution_count": 4,
      "outputs": [
        {
          "output_type": "stream",
          "name": "stdout",
          "text": [
            "\n",
            "Array of Integers from 10 to 60 with a Step of 5:\n",
            "[10 15 20 25 30 35 40 45 50 55 60]\n"
          ]
        }
      ]
    },
    {
      "cell_type": "markdown",
      "source": [
        "5. Create a NumPy Array of Strings and Apply Case Transformations"
      ],
      "metadata": {
        "id": "dhX31tG_-Jzs"
      }
    },
    {
      "cell_type": "code",
      "source": [
        "import numpy as np\n",
        "\n",
        "# Create a NumPy array of strings\n",
        "words = np.array(['python', 'numpy', 'pandas'])\n",
        "\n",
        "# Apply different case transformations\n",
        "uppercase = np.char.upper(words)\n",
        "lowercase = np.char.lower(words)\n",
        "titlecase = np.char.title(words)\n",
        "\n",
        "print(\"Original Array:\")\n",
        "print(words)\n",
        "print(\"\\nUppercase:\")\n",
        "print(uppercase)\n",
        "print(\"\\nLowercase:\")\n",
        "print(lowercase)\n",
        "print(\"\\nTitle Case:\")\n",
        "print(titlecase)\n"
      ],
      "metadata": {
        "colab": {
          "base_uri": "https://localhost:8080/"
        },
        "id": "5yQmXtsS94rp",
        "outputId": "4c152f03-1b89-4304-e873-4fac0c333d3b"
      },
      "execution_count": 5,
      "outputs": [
        {
          "output_type": "stream",
          "name": "stdout",
          "text": [
            "Original Array:\n",
            "['python' 'numpy' 'pandas']\n",
            "\n",
            "Uppercase:\n",
            "['PYTHON' 'NUMPY' 'PANDAS']\n",
            "\n",
            "Lowercase:\n",
            "['python' 'numpy' 'pandas']\n",
            "\n",
            "Title Case:\n",
            "['Python' 'Numpy' 'Pandas']\n"
          ]
        }
      ]
    },
    {
      "cell_type": "markdown",
      "source": [
        "6. Insert a Space Between Each Character of Every Word in a NumPy Array"
      ],
      "metadata": {
        "id": "dMGN0r6W-Q1Y"
      }
    },
    {
      "cell_type": "code",
      "source": [
        "# Generate a NumPy array of words\n",
        "words = np.array(['hello', 'world', 'numpy', 'python'])\n",
        "\n",
        "# Insert a space between each character\n",
        "spaced_words = np.char.join(' ', words)\n",
        "print(\"\\nWords with Space Between Each Character:\")\n",
        "print(spaced_words)\n"
      ],
      "metadata": {
        "colab": {
          "base_uri": "https://localhost:8080/"
        },
        "id": "0yAETUHl-PiS",
        "outputId": "f6481ee3-1f3b-481b-bbb8-c8be2a6e0322"
      },
      "execution_count": 6,
      "outputs": [
        {
          "output_type": "stream",
          "name": "stdout",
          "text": [
            "\n",
            "Words with Space Between Each Character:\n",
            "['h e l l o' 'w o r l d' 'n u m p y' 'p y t h o n']\n"
          ]
        }
      ]
    },
    {
      "cell_type": "markdown",
      "source": [
        "7. Element-wise Operations on Two 2D NumPy Arrays"
      ],
      "metadata": {
        "id": "MLa1Tomi-jRG"
      }
    },
    {
      "cell_type": "code",
      "source": [
        "# Create two 2D NumPy arrays\n",
        "array1 = np.array([[1, 2, 3], [4, 5, 6]])\n",
        "array2 = np.array([[7, 8, 9], [10, 11, 12]])\n",
        "\n",
        "# Perform element-wise operations\n",
        "addition = array1 + array2\n",
        "subtraction = array1 - array2\n",
        "multiplication = array1 * array2\n",
        "division = array1 / array2\n",
        "\n",
        "print(\"\\nAddition:\")\n",
        "print(addition)\n",
        "print(\"\\nSubtraction:\")\n",
        "print(subtraction)\n",
        "print(\"\\nMultiplication:\")\n",
        "print(multiplication)\n",
        "print(\"\\nDivision:\")\n",
        "print(division)\n"
      ],
      "metadata": {
        "colab": {
          "base_uri": "https://localhost:8080/"
        },
        "id": "FlWSFr1r-cnw",
        "outputId": "7b1d8262-4857-4854-b271-7f096a5c01be"
      },
      "execution_count": 7,
      "outputs": [
        {
          "output_type": "stream",
          "name": "stdout",
          "text": [
            "\n",
            "Addition:\n",
            "[[ 8 10 12]\n",
            " [14 16 18]]\n",
            "\n",
            "Subtraction:\n",
            "[[-6 -6 -6]\n",
            " [-6 -6 -6]]\n",
            "\n",
            "Multiplication:\n",
            "[[ 7 16 27]\n",
            " [40 55 72]]\n",
            "\n",
            "Division:\n",
            "[[0.14285714 0.25       0.33333333]\n",
            " [0.4        0.45454545 0.5       ]]\n"
          ]
        }
      ]
    },
    {
      "cell_type": "markdown",
      "source": [
        "8. Create a 5x5 Identity Matrix and Extract Diagonal Elements"
      ],
      "metadata": {
        "id": "YAoxZIl5-qeS"
      }
    },
    {
      "cell_type": "code",
      "source": [
        "# Create a 5x5 identity matrix\n",
        "identity_matrix = np.eye(5)\n",
        "\n",
        "# Extract diagonal elements\n",
        "diagonal_elements = np.diag(identity_matrix)\n",
        "\n",
        "print(\"\\n5x5 Identity Matrix:\")\n",
        "print(identity_matrix)\n",
        "print(\"\\nDiagonal Elements:\")\n",
        "print(diagonal_elements)\n"
      ],
      "metadata": {
        "colab": {
          "base_uri": "https://localhost:8080/"
        },
        "id": "eyOS-OxG-ndI",
        "outputId": "c98006eb-adeb-426b-83fc-fa251abe64c8"
      },
      "execution_count": 8,
      "outputs": [
        {
          "output_type": "stream",
          "name": "stdout",
          "text": [
            "\n",
            "5x5 Identity Matrix:\n",
            "[[1. 0. 0. 0. 0.]\n",
            " [0. 1. 0. 0. 0.]\n",
            " [0. 0. 1. 0. 0.]\n",
            " [0. 0. 0. 1. 0.]\n",
            " [0. 0. 0. 0. 1.]]\n",
            "\n",
            "Diagonal Elements:\n",
            "[1. 1. 1. 1. 1.]\n"
          ]
        }
      ]
    },
    {
      "cell_type": "markdown",
      "source": [
        "9. Generate an Array of Random Integers and Find Prime Numbers"
      ],
      "metadata": {
        "id": "Dg55AuUs-2QG"
      }
    },
    {
      "cell_type": "code",
      "source": [
        "import random\n",
        "\n",
        "# Generate a NumPy array of 100 random integers between 0 and 1000\n",
        "random_integers = np.random.randint(0, 1001, size=100)\n",
        "\n",
        "# Function to check if a number is prime\n",
        "def is_prime(n):\n",
        "    if n <= 1:\n",
        "        return False\n",
        "    for i in range(2, int(n**0.5) + 1):\n",
        "        if n % i == 0:\n",
        "            return False\n",
        "    return True\n",
        "\n",
        "# Find and display all prime numbers in the array\n",
        "prime_numbers = [num for num in random_integers if is_prime(num)]\n",
        "\n",
        "print(\"\\nRandom Integers:\")\n",
        "print(random_integers)\n",
        "print(\"\\nPrime Numbers in the Array:\")\n",
        "print(prime_numbers)\n"
      ],
      "metadata": {
        "colab": {
          "base_uri": "https://localhost:8080/"
        },
        "id": "_SLvlRDb-xxj",
        "outputId": "372b4c7f-9e25-4230-f107-15ec0e825fc4"
      },
      "execution_count": 9,
      "outputs": [
        {
          "output_type": "stream",
          "name": "stdout",
          "text": [
            "\n",
            "Random Integers:\n",
            "[358 632 165 999 159 419 933 211 221 248 268 461 337 989 592  10   6 440\n",
            " 429 908 674 494  58 685 461 640 417 737 650 977 786 241 232 698  60 740\n",
            " 230 142 910 187 127   9 741  16 510 867 711  50  55 894 790 285 665 252\n",
            "  35 118 871  72 643 792 460 395 971 376 387 982  86 758 525 984 929 415\n",
            " 257 750  62 499 540 920  32 348 755 349 712  68 855 380 972 260 531 139\n",
            " 581 725 649 345 378 273 993 252 258 862]\n",
            "\n",
            "Prime Numbers in the Array:\n",
            "[419, 211, 461, 337, 461, 977, 241, 127, 643, 971, 929, 257, 499, 349, 139]\n"
          ]
        }
      ]
    },
    {
      "cell_type": "markdown",
      "source": [
        "10. Create an Array of Daily Temperatures and Calculate Weekly Averages"
      ],
      "metadata": {
        "id": "Dyg_FRGs-8s4"
      }
    },
    {
      "cell_type": "code",
      "source": [
        "import numpy as np\n",
        "\n",
        "# Generate a NumPy array representing daily temperatures for a month (30 days)\n",
        "np.random.seed(0)  # For reproducibility\n",
        "temperatures = np.random.randint(0, 101, size=30)  # Random temperatures between 0 and 100\n",
        "\n",
        "# Display daily temperatures\n",
        "print(\"Daily Temperatures for a Month (30 Days):\")\n",
        "print(temperatures)\n",
        "\n",
        "# Reshape to 4 weeks (7 days each) + 2 extra days\n",
        "# We will handle the last two days separately for the average calculation\n",
        "weekly_averages = []\n",
        "\n",
        "# Calculate averages for each of the first four weeks\n",
        "for i in range(4):\n",
        "    weekly_avg = np.mean(temperatures[i*7:(i+1)*7])\n",
        "    weekly_averages.append(weekly_avg)\n",
        "\n",
        "# Calculate the average for the last 2 days (not a complete week)\n",
        "last_week_avg = np.mean(temperatures[28:30])  # Last two days\n",
        "weekly_averages.append(last_week_avg)\n",
        "\n",
        "# Display weekly averages\n",
        "print(\"\\nWeekly Averages:\")\n",
        "for week_num, avg in enumerate(weekly_averages, start=1):\n",
        "    print(f\"Week {week_num}: {avg:.2f}\")\n"
      ],
      "metadata": {
        "colab": {
          "base_uri": "https://localhost:8080/"
        },
        "id": "BuefjJ8H_JXH",
        "outputId": "265b2335-9976-447a-b99e-3528db8a968b"
      },
      "execution_count": 11,
      "outputs": [
        {
          "output_type": "stream",
          "name": "stdout",
          "text": [
            "Daily Temperatures for a Month (30 Days):\n",
            "[44 47 64 67 67  9 83 21 36 87 70 88 88 12 58 65 39 87 46 88 81 37 25 77\n",
            " 72  9 20 80 69 79]\n",
            "\n",
            "Weekly Averages:\n",
            "Week 1: 54.43\n",
            "Week 2: 57.43\n",
            "Week 3: 66.29\n",
            "Week 4: 45.71\n",
            "Week 5: 74.00\n"
          ]
        }
      ]
    }
  ]
}